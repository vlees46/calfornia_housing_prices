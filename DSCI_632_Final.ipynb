{
  "cells": [
    {
      "cell_type": "markdown",
      "metadata": {
        "id": "XNwBhCh5_fcM"
      },
      "source": [
        "# DSCI 632 Final\n",
        "\n",
        "Your final is to use the dataset of your choice and the techniques in this class to do the following:\n",
        "\n",
        "1. Define and describe the dataset (10 points)\n",
        "1. Clean the data (10 points)\n",
        "1. Transform the clean data (10 points)\n",
        "1. Show your analysis of the data (10 points)"
      ]
    },
    {
      "cell_type": "markdown",
      "metadata": {
        "id": "aZL-vts6Fyji"
      },
      "source": [
        "## Ground Rules\n",
        "\n",
        "1. Explain everything you're doing with pyspark in the code cells using [markdown](https://www.markdownguide.org/cheat-sheet) in text cells. Help the reader understand why you're doing each step so they can re-create it. Remember, this is an assignment to show how you analyze data to a potential employer. Don't use code comments to explain things.\n",
        "1. All of the sections are heading 1 in markdown, so use heading 2 to write your explainations, and heading 3 for any sub-headers. Check in your table of contents view in colab to make sure each point is listed before you turn this in.\n",
        "1. Don't hesisate to use multiple code/text cells in each section, as long as they're all labeled and described.\n",
        "1. Assume that the reader doesn't have access to the dataset on your local machine. Provide a link to the dataset you're using, or if able, include code to copy it from a public source. Don't rely on uploading from your local machine. (Importing from Google Drive is ok, as long as you provide the link to the data)\n",
        "1. If using GCP services, include screenshots from your console if there's a step that you aren't able to re-produce in code. Using the SDK is always preferred, but you won't lose points for using screenshots and explaining them.\n",
        "1. Import the data ONCE, then transform it to fit your analysis.\n",
        "1. Don't overwrite data, make new columns for new transformations. You can always drop columns later, but you can't get overwritten values back.\n",
        "1. Feel free to work with classmates, but all work submitted must be your own.\n",
        "1. Make sure to run disconnect the runtime and re-run the notebook at least once before turning in. If you are getting certain Java runtime errors, this might also help."
      ]
    },
    {
      "cell_type": "markdown",
      "metadata": {
        "id": "o92jEFUiQDLu"
      },
      "source": [
        "## Extra Credit Opportunities!\n",
        "\n",
        "- If you provide a link to this notebook on your public GitHub page instead of turning it in as an attachment, you will get 2 points extra credit.\n",
        "- Extra credit will be given for using the [Google Cloud SDK](https://cloud.google.com/sdk/) to create/use/destroy any cloud resources, up to 2 points per section, 8 points total.\n",
        " - Don't be afraid to look at the GCP example colab notebooks from the class notes, the GCP documentation, or GitHub for examples.\n",
        "- If this notebook is self-contained, you will get 5 points extra credit. (Requirements below)\n",
        " - The data is imported without relying on Google Drive, as the paths to data in Google Drive are user-specific. Downloads from public storage buckets/services are fine. (1 point)\n",
        " - It be run from start to finish without making any changes to paths, code, or variable names. (1 point)\n",
        " - All calls to external services, including GCP, are done programatically, no screenshots explaining how it worked in a browser console. (Using an API or SDK, 2 points)\n",
        " - All cloud resources are destroyed at the end of the notebook in a seperate section (Also via API or SDK, 1 point)"
      ]
    },
    {
      "cell_type": "markdown",
      "metadata": {
        "id": "te7o-qDYH5Pl"
      },
      "source": [
        "---"
      ]
    },
    {
      "cell_type": "markdown",
      "metadata": {
        "id": "rlYD5Go09y1Q"
      },
      "source": [
        "# Section 1: Define and describe the dataset\n",
        "\n",
        "10 points\n",
        "\n",
        "Import the dataset, and describe why you'll be analyzing in it. You can summarize a few columns, show a more information on the relavent features, or but help the reader understand what the dataset is, what is in it, and why you picked it.\n",
        "\n",
        "Some questions that it might help you to answer:\n",
        "1. Why are you choosing this dataset?\n",
        "1. What variables will you use?\n",
        "1. What analysis(es) will you run?\n",
        "1. Do you have any hypotheses? What are they?\n",
        "\n",
        "### This section should include one or more of the following:\n",
        "- A histogram of several features relavent to your analysis\n",
        "- The schema of the dataset, with the datatypes assigned correctly\n",
        "- A text cell with explainations of the relavent features in [markdown](https://www.markdownguide.org/cheat-sheet)\n",
        "- Use Spark SQL or built-in methods to show a range of values\n",
        "- Most common words/n-grams found"
      ]
    },
    {
      "cell_type": "markdown",
      "metadata": {
        "id": "qrk1IBwx9zK-"
      },
      "source": [
        "## California Housing Prices Introduction\n",
        "\n",
        " I will be creating a predictive model as an attempt to predict the housing prices from the California Housing Prices dataset, which can be downloaded from the following website location https://www.kaggle.com/datasets/camnugent/california-housing-prices\n",
        "\n",
        " The reason why I am choosing this dataset I am interested in learning Machine Learning and predictive modeling and I also have a theory that I want to test, which is  where are the most expensive houses and see how accurately a machine learning model is for predicting housing prices.\n",
        "\n",
        "\n",
        "\n",
        "\n",
        "\n",
        "---\n",
        "\n"
      ]
    },
    {
      "cell_type": "markdown",
      "source": [
        "## Colab\n",
        " - Google Colab is free you just need to sign up for a Google email account which can be found [here](https://support.google.com/mail/answer/56256?hl=en)\n",
        "\n",
        " - Afterwards goto [Google Drive located here](https://www.google.com/drive/), click on Goto Drive and create a directory called HousingPrices\n",
        "\n",
        " - Run the below code which will allow colab to access your Google Drive"
      ],
      "metadata": {
        "id": "lN68I5iQKGqE"
      }
    },
    {
      "cell_type": "code",
      "source": [
        "from google.colab import drive\n",
        "drive.mount('/content/drive')"
      ],
      "metadata": {
        "colab": {
          "base_uri": "https://localhost:8080/"
        },
        "id": "-tHxnniz97Kv",
        "outputId": "145425ef-6778-4f3b-9481-962fd9a09dfb"
      },
      "execution_count": 205,
      "outputs": [
        {
          "output_type": "stream",
          "name": "stdout",
          "text": [
            "Drive already mounted at /content/drive; to attempt to forcibly remount, call drive.mount(\"/content/drive\", force_remount=True).\n"
          ]
        }
      ]
    },
    {
      "cell_type": "markdown",
      "source": [
        "## Install Spark\n",
        " - This will install Spark 3.2.4"
      ],
      "metadata": {
        "id": "2NnjSsD4LMLC"
      }
    },
    {
      "cell_type": "code",
      "source": [
        "\n",
        "!apt-get install openjdk-8-jdk-headless -qq > /dev/null\n",
        "!wget -q https://archive.apache.org/dist/spark/spark-3.2.4/spark-3.2.4-bin-hadoop2.7.tgz\n",
        "!tar xf spark-3.2.4-bin-hadoop2.7.tgz"
      ],
      "metadata": {
        "id": "9EY5IL5KNBSk"
      },
      "execution_count": 206,
      "outputs": []
    },
    {
      "cell_type": "markdown",
      "source": [
        "## Set Environment Variables\n",
        " - We will need to install Java and Spark\n",
        " - Also sets enviroment variables for JAVA and SPARK in order to operate properly"
      ],
      "metadata": {
        "id": "PwRfr5vfJ8bF"
      }
    },
    {
      "cell_type": "code",
      "source": [
        "import os\n",
        "os.environ[\"JAVA_HOME\"] = \"/usr/lib/jvm/java-8-openjdk-amd64\"\n",
        "os.environ[\"SPARK_HOME\"] = \"/content/spark-3.2.4-bin-hadoop2.7\""
      ],
      "metadata": {
        "id": "4x62RQpuNGjZ"
      },
      "execution_count": 207,
      "outputs": []
    },
    {
      "cell_type": "code",
      "source": [
        "!python -m pip install --upgrade pyspark==2.4.0\n",
        "!python -m pip install -q findspark"
      ],
      "metadata": {
        "colab": {
          "base_uri": "https://localhost:8080/"
        },
        "id": "WGh_9CW4NGqz",
        "outputId": "defe305a-91e6-441c-81e4-5d7b21e53bde"
      },
      "execution_count": 208,
      "outputs": [
        {
          "output_type": "stream",
          "name": "stdout",
          "text": [
            "Requirement already satisfied: pyspark==2.4.0 in /usr/local/lib/python3.10/dist-packages (2.4.0)\n",
            "Requirement already satisfied: py4j==0.10.7 in /usr/local/lib/python3.10/dist-packages (from pyspark==2.4.0) (0.10.7)\n"
          ]
        }
      ]
    },
    {
      "cell_type": "markdown",
      "source": [
        "## Initializing the spark context"
      ],
      "metadata": {
        "id": "Ljyq-BEfLr0n"
      }
    },
    {
      "cell_type": "code",
      "source": [
        "import findspark\n",
        "findspark.init()"
      ],
      "metadata": {
        "id": "KLcci2HHNGxm"
      },
      "execution_count": 209,
      "outputs": []
    },
    {
      "cell_type": "code",
      "source": [
        "from pyspark.sql import SparkSession"
      ],
      "metadata": {
        "id": "oPh2AvHpNG3n"
      },
      "execution_count": 210,
      "outputs": []
    },
    {
      "cell_type": "markdown",
      "source": [
        "## Create an application\n",
        " - You can change this to anything you like for your project\n",
        "\n",
        " - Just update APP_NAME = \"Your Project NAME\""
      ],
      "metadata": {
        "id": "99nH5LuQMKuU"
      }
    },
    {
      "cell_type": "code",
      "source": [
        "APP_NAME = \"Final Project\"\n",
        "spark = SparkSession.builder.appName(APP_NAME).getOrCreate()"
      ],
      "metadata": {
        "id": "qCNEUlgQNG-z"
      },
      "execution_count": 211,
      "outputs": []
    },
    {
      "cell_type": "markdown",
      "source": [
        "## Verifying that Spark is running"
      ],
      "metadata": {
        "id": "P1HvlGxuMT8V"
      }
    },
    {
      "cell_type": "code",
      "source": [
        "spark"
      ],
      "metadata": {
        "colab": {
          "base_uri": "https://localhost:8080/",
          "height": 222
        },
        "id": "gq5psoIjNHE1",
        "outputId": "7f4fc77f-c139-4c16-e5e1-c178b816e950"
      },
      "execution_count": 212,
      "outputs": [
        {
          "output_type": "execute_result",
          "data": {
            "text/plain": [
              "<pyspark.sql.session.SparkSession at 0x7c79599fa530>"
            ],
            "text/html": [
              "\n",
              "            <div>\n",
              "                <p><b>SparkSession - in-memory</b></p>\n",
              "                \n",
              "        <div>\n",
              "            <p><b>SparkContext</b></p>\n",
              "\n",
              "            <p><a href=\"http://92febe21f987:4040\">Spark UI</a></p>\n",
              "\n",
              "            <dl>\n",
              "              <dt>Version</dt>\n",
              "                <dd><code>v3.2.4</code></dd>\n",
              "              <dt>Master</dt>\n",
              "                <dd><code>local[*]</code></dd>\n",
              "              <dt>AppName</dt>\n",
              "                <dd><code>Final Project</code></dd>\n",
              "            </dl>\n",
              "        </div>\n",
              "        \n",
              "            </div>\n",
              "        "
            ]
          },
          "metadata": {},
          "execution_count": 212
        }
      ]
    },
    {
      "cell_type": "markdown",
      "source": [
        "### Importing required modules"
      ],
      "metadata": {
        "id": "n__G43bBMZHy"
      }
    },
    {
      "cell_type": "code",
      "source": [
        "import numpy as np\n",
        "import pandas as pd\n",
        "import os\n",
        "import seaborn as sns\n",
        "from pyspark import SparkConf, SparkContext\n",
        "from pyspark.sql import SparkSession, SQLContext\n",
        "from pyspark.sql.types import *\n",
        "import pyspark.sql.functions as F\n",
        "from pyspark.sql.functions import udf, col\n",
        "\n",
        "from pyspark.ml.regression import LinearRegression\n",
        "from pyspark.mllib.evaluation import RegressionMetrics\n",
        "\n",
        "from pyspark.ml.tuning import ParamGridBuilder, CrossValidator, CrossValidatorModel\n",
        "from pyspark.ml.feature import VectorAssembler, StandardScaler\n",
        "from pyspark.ml.evaluation import RegressionEvaluator\n"
      ],
      "metadata": {
        "id": "y0nd8TVBMnyb"
      },
      "execution_count": 213,
      "outputs": []
    },
    {
      "cell_type": "markdown",
      "source": [
        "## Creating a Spark dataset for we are able to use Spark Machine learning features\n",
        "\n",
        "- Change the housing_data variable path to your Google drive path.\n",
        "\n",
        "- Easy way to find the path is to click on \"Files\" folder on the left menu sidebar, locate the directory folder and left click on the file and it will give you a menu to \"Copy Path\"\n",
        "\n",
        "- After paste the path into housing_data = ('YOUR PATH GOES HERE/housing.csv')"
      ],
      "metadata": {
        "id": "inlGQBr0N-Pc"
      }
    },
    {
      "cell_type": "code",
      "source": [
        "\n",
        "housing_data = ('/content/drive/MyDrive/Colab Notebooks/DSCI 632/Final/housing.csv')\n",
        "\n",
        "cal_housing = spark.read.format('csv').option('header', 'true').option('inferSchema', 'true').load(housing_data)\n",
        "cal_housing.show(5)"
      ],
      "metadata": {
        "colab": {
          "base_uri": "https://localhost:8080/"
        },
        "id": "Lo0oeZgsN9Ou",
        "outputId": "09e0d39a-20c8-481a-d265-ab7994b1e550"
      },
      "execution_count": 214,
      "outputs": [
        {
          "output_type": "stream",
          "name": "stdout",
          "text": [
            "+---------+--------+------------------+-----------+--------------+----------+----------+-------------+------------------+---------------+\n",
            "|longitude|latitude|housing_median_age|total_rooms|total_bedrooms|population|households|median_income|median_house_value|ocean_proximity|\n",
            "+---------+--------+------------------+-----------+--------------+----------+----------+-------------+------------------+---------------+\n",
            "|  -122.23|   37.88|              41.0|      880.0|         129.0|     322.0|     126.0|       8.3252|          452600.0|       NEAR BAY|\n",
            "|  -122.22|   37.86|              21.0|     7099.0|        1106.0|    2401.0|    1138.0|       8.3014|          358500.0|       NEAR BAY|\n",
            "|  -122.24|   37.85|              52.0|     1467.0|         190.0|     496.0|     177.0|       7.2574|          352100.0|       NEAR BAY|\n",
            "|  -122.25|   37.85|              52.0|     1274.0|         235.0|     558.0|     219.0|       5.6431|          341300.0|       NEAR BAY|\n",
            "|  -122.25|   37.85|              52.0|     1627.0|         280.0|     565.0|     259.0|       3.8462|          342200.0|       NEAR BAY|\n",
            "+---------+--------+------------------+-----------+--------------+----------+----------+-------------+------------------+---------------+\n",
            "only showing top 5 rows\n",
            "\n"
          ]
        }
      ]
    },
    {
      "cell_type": "markdown",
      "source": [
        "# Displaying pyspark dataframe.  \n",
        "\n",
        "- This will give us an idea of what data types are in each field.\n",
        "\n",
        "- We can see bleow that ocean_proxmity is a string in which latter on we will have to covert to a numerical in order for our ML to process this dataset"
      ],
      "metadata": {
        "id": "SZtBThFA_EY0"
      }
    },
    {
      "cell_type": "code",
      "source": [
        "cal_housing.printSchema()"
      ],
      "metadata": {
        "colab": {
          "base_uri": "https://localhost:8080/"
        },
        "id": "X_6u92cL_Cna",
        "outputId": "b61b49d2-6321-4af0-9e18-5733b6736ba6"
      },
      "execution_count": 215,
      "outputs": [
        {
          "output_type": "stream",
          "name": "stdout",
          "text": [
            "root\n",
            " |-- longitude: double (nullable = true)\n",
            " |-- latitude: double (nullable = true)\n",
            " |-- housing_median_age: double (nullable = true)\n",
            " |-- total_rooms: double (nullable = true)\n",
            " |-- total_bedrooms: double (nullable = true)\n",
            " |-- population: double (nullable = true)\n",
            " |-- households: double (nullable = true)\n",
            " |-- median_income: double (nullable = true)\n",
            " |-- median_house_value: double (nullable = true)\n",
            " |-- ocean_proximity: string (nullable = true)\n",
            "\n"
          ]
        }
      ]
    },
    {
      "cell_type": "markdown",
      "source": [
        "# Reviewing entries in each column\n",
        "\n",
        "- This part is called Exploratory Data Analysis and the purpose is to identify and issues with the data.  Such as NULL values, missing information.\n",
        "\n",
        "- These null values can create problems in data analysis, machine learning, and other data-related tasks and is the reason why we have to be careful on how we handle them\n",
        "\n",
        "-  One common approach to handle null values is to delete the rows that contain them.\n"
      ],
      "metadata": {
        "id": "rB7OjWNMejP8"
      }
    },
    {
      "cell_type": "code",
      "source": [
        "cal_housing.select(['longitude',\n",
        " 'latitude',\n",
        " 'housing_median_age',\n",
        " 'total_rooms',\n",
        " 'total_bedrooms']).describe().show()"
      ],
      "metadata": {
        "colab": {
          "base_uri": "https://localhost:8080/"
        },
        "id": "Mg9bJxpkRzzl",
        "outputId": "201e7dce-617a-471d-d601-082b83f43b7c"
      },
      "execution_count": 216,
      "outputs": [
        {
          "output_type": "stream",
          "name": "stdout",
          "text": [
            "+-------+-------------------+-----------------+------------------+------------------+------------------+\n",
            "|summary|          longitude|         latitude|housing_median_age|       total_rooms|    total_bedrooms|\n",
            "+-------+-------------------+-----------------+------------------+------------------+------------------+\n",
            "|  count|              20640|            20640|             20640|             20640|             20433|\n",
            "|   mean|-119.56970445736148| 35.6318614341087|28.639486434108527|2635.7630813953488| 537.8705525375618|\n",
            "| stddev|  2.003531723502584|2.135952397457101| 12.58555761211163|2181.6152515827944|421.38507007403115|\n",
            "|    min|            -124.35|            32.54|               1.0|               2.0|               1.0|\n",
            "|    max|            -114.31|            41.95|              52.0|           39320.0|            6445.0|\n",
            "+-------+-------------------+-----------------+------------------+------------------+------------------+\n",
            "\n"
          ]
        }
      ]
    },
    {
      "cell_type": "markdown",
      "source": [
        "## Discovering NULL Values\n",
        "\n",
        "- Here we have found under column ocean_proxmity some null values in which we will have to handle latter on in this project\n",
        "\n",
        "- Also ocean_proxmity is a catagorical variable and will need to convert to numerical\n",
        "\n",
        "- Reason we convert Categorical data to numerical data is our machine learning algorithms, as most algorithms are primarily designed to operate with numerical data only"
      ],
      "metadata": {
        "id": "t0ncAqrZfDGY"
      }
    },
    {
      "cell_type": "code",
      "source": [
        "cal_housing.select(['population',\n",
        " 'households',\n",
        " 'median_income',\n",
        " 'median_house_value',\n",
        " 'ocean_proximity']).describe().show()"
      ],
      "metadata": {
        "colab": {
          "base_uri": "https://localhost:8080/"
        },
        "id": "LikdgGEuS_Ms",
        "outputId": "8539eb9b-4f1d-4e10-9b46-0b3488565075"
      },
      "execution_count": 217,
      "outputs": [
        {
          "output_type": "stream",
          "name": "stdout",
          "text": [
            "+-------+------------------+-----------------+------------------+------------------+---------------+\n",
            "|summary|        population|       households|     median_income|median_house_value|ocean_proximity|\n",
            "+-------+------------------+-----------------+------------------+------------------+---------------+\n",
            "|  count|             20640|            20640|             20640|             20640|          20640|\n",
            "|   mean|1425.4767441860465|499.5396802325581|3.8706710029070246|206855.81690891474|           null|\n",
            "| stddev|  1132.46212176534|382.3297528316098| 1.899821717945263|115395.61587441359|           null|\n",
            "|    min|               3.0|              1.0|            0.4999|           14999.0|      <1H OCEAN|\n",
            "|    max|           35682.0|           6082.0|           15.0001|          500001.0|     NEAR OCEAN|\n",
            "+-------+------------------+-----------------+------------------+------------------+---------------+\n",
            "\n"
          ]
        }
      ]
    },
    {
      "cell_type": "markdown",
      "source": [
        "## Performing a more indepth review of find NULL values and missing informaiton\n",
        "\n",
        "- NULL values in ocean_proxmity and total_bedrooms\n",
        "- total_bedroom = 207\n",
        "- ocean_proxmity = 20640\n",
        "\n"
      ],
      "metadata": {
        "id": "PapcvjiVfbAe"
      }
    },
    {
      "cell_type": "markdown",
      "source": [],
      "metadata": {
        "id": "7S4nSZs-ftXF"
      }
    },
    {
      "cell_type": "code",
      "source": [
        "for column in cal_housing.columns:\n",
        "    print (column, cal_housing.filter(col(column).cast(\"float\").isNull()).count())"
      ],
      "metadata": {
        "colab": {
          "base_uri": "https://localhost:8080/"
        },
        "id": "mJAhbWiwTJwz",
        "outputId": "d6e136d2-72a3-4638-dc20-cf6520349508"
      },
      "execution_count": 218,
      "outputs": [
        {
          "output_type": "stream",
          "name": "stdout",
          "text": [
            "longitude 0\n",
            "latitude 0\n",
            "housing_median_age 0\n",
            "total_rooms 0\n",
            "total_bedrooms 207\n",
            "population 0\n",
            "households 0\n",
            "median_income 0\n",
            "median_house_value 0\n",
            "ocean_proximity 20640\n"
          ]
        }
      ]
    },
    {
      "cell_type": "markdown",
      "source": [
        "## Idenitfy Target Variable for Predictive Modeling\n",
        "\n",
        "- Creating a histogram on median_house_value since this will be our target variable for performing our price prediction.\n",
        "\n",
        "- Checking if the prices are normally distributed.\n",
        "\n",
        "- This is a good reference for understanding what a normal distribution is https://www.datacamp.com/tutorial/understanding-skewness-and-kurtosis\n",
        "\n",
        "- In our case the price column is right skewed with an outlier at the 500,000\n",
        "\n",
        "\n"
      ],
      "metadata": {
        "id": "vDcocPfEkL-m"
      }
    },
    {
      "cell_type": "code",
      "source": [
        "sns.distplot(cal_housing.select('median_house_value').toPandas(), color=\"skyblue\")\n",
        "cal_housing.select(F.skewness('median_house_value'), F.kurtosis('median_house_value')).show()"
      ],
      "metadata": {
        "colab": {
          "base_uri": "https://localhost:8080/",
          "height": 755
        },
        "id": "Ws98lNBgZLSn",
        "outputId": "2c4c4b3c-602a-47ca-e116-a4fdf8c4b1ea"
      },
      "execution_count": 219,
      "outputs": [
        {
          "output_type": "stream",
          "name": "stderr",
          "text": [
            "<ipython-input-219-024e676bb7b9>:1: UserWarning: \n",
            "\n",
            "`distplot` is a deprecated function and will be removed in seaborn v0.14.0.\n",
            "\n",
            "Please adapt your code to use either `displot` (a figure-level function with\n",
            "similar flexibility) or `histplot` (an axes-level function for histograms).\n",
            "\n",
            "For a guide to updating your code to use the new functions, please see\n",
            "https://gist.github.com/mwaskom/de44147ed2974457ad6372750bbe5751\n",
            "\n",
            "  sns.distplot(cal_housing.select('median_house_value').toPandas(), color=\"skyblue\")\n"
          ]
        },
        {
          "output_type": "stream",
          "name": "stdout",
          "text": [
            "+----------------------------+----------------------------+\n",
            "|skewness(median_house_value)|kurtosis(median_house_value)|\n",
            "+----------------------------+----------------------------+\n",
            "|          0.9776922140978437|          0.3275001388119674|\n",
            "+----------------------------+----------------------------+\n",
            "\n"
          ]
        },
        {
          "output_type": "display_data",
          "data": {
            "text/plain": [
              "<Figure size 640x480 with 1 Axes>"
            ],
            "image/png": "[encoded data removed]"
          },
          "metadata": {}
        }
      ]
    },
    {
      "cell_type": "markdown",
      "metadata": {
        "id": "PJf7Kn_E-nsi"
      },
      "source": [
        "# Section 2: Clean the data\n",
        "\n",
        "10 points\n",
        "\n",
        "Not every dataset is going to be ready to use right away. Take steps to fix incorrect inputs, remove null values, and assign datatypes that fit each feature.\n",
        "\n",
        "### This section should include one or more of the following:\n",
        "- A count of rows before and after dropping data with null or incorrect values, including an explaination of why removing the rows was necessary in [markdown](https://www.markdownguide.org/cheat-sheet).\n",
        "- Renaming a column, adding a new one, or casting an existing one as a different datatype.\n",
        "- Remove punctuation marks, symbols, etc from the data, and convert all upper-case lettering to lower-case.\n",
        "- Remove or fix rows that have bad values/data."
      ]
    },
    {
      "cell_type": "markdown",
      "source": [
        "## Renaming Columns\n",
        "\n",
        "- For a more clean pricture of what we are going to predict , which is price\n",
        "\n",
        "- We will be renaming median_house_value to price"
      ],
      "metadata": {
        "id": "-USXg5mlY7Cg"
      }
    },
    {
      "cell_type": "code",
      "source": [
        "cal_housing.select('median_house_value').show(5)"
      ],
      "metadata": {
        "colab": {
          "base_uri": "https://localhost:8080/"
        },
        "id": "2WCcTbRPal-s",
        "outputId": "20d8b1ff-a9b3-4382-ef80-52261cb40d3a"
      },
      "execution_count": 220,
      "outputs": [
        {
          "output_type": "stream",
          "name": "stdout",
          "text": [
            "+------------------+\n",
            "|median_house_value|\n",
            "+------------------+\n",
            "|          452600.0|\n",
            "|          358500.0|\n",
            "|          352100.0|\n",
            "|          341300.0|\n",
            "|          342200.0|\n",
            "+------------------+\n",
            "only showing top 5 rows\n",
            "\n"
          ]
        }
      ]
    },
    {
      "cell_type": "markdown",
      "source": [
        "### Below is how we rename a pyspark column\n",
        "- Renaming median_house_value to price"
      ],
      "metadata": {
        "id": "qjxYFvXkm6fB"
      }
    },
    {
      "cell_type": "code",
      "source": [
        "cal_housing = cal_housing.withColumnRenamed('median_house_value','price')"
      ],
      "metadata": {
        "id": "nbCIJDn-ZLIu"
      },
      "execution_count": 221,
      "outputs": []
    },
    {
      "cell_type": "code",
      "source": [
        "cal_housing.select('price').show(5)"
      ],
      "metadata": {
        "colab": {
          "base_uri": "https://localhost:8080/"
        },
        "id": "wkA3BCD6ZLQD",
        "outputId": "0e263c71-1414-4172-97b7-89b358f7cd83"
      },
      "execution_count": 222,
      "outputs": [
        {
          "output_type": "stream",
          "name": "stdout",
          "text": [
            "+--------+\n",
            "|   price|\n",
            "+--------+\n",
            "|452600.0|\n",
            "|358500.0|\n",
            "|352100.0|\n",
            "|341300.0|\n",
            "|342200.0|\n",
            "+--------+\n",
            "only showing top 5 rows\n",
            "\n"
          ]
        }
      ]
    },
    {
      "cell_type": "markdown",
      "source": [
        "### Displaying the updated column name"
      ],
      "metadata": {
        "id": "KesfrCghnSF6"
      }
    },
    {
      "cell_type": "code",
      "source": [
        "cal_housing.show(5)"
      ],
      "metadata": {
        "colab": {
          "base_uri": "https://localhost:8080/"
        },
        "id": "qgBtQflzm0Fw",
        "outputId": "13d7ded1-8534-42ba-f08c-11986ec6209f"
      },
      "execution_count": 223,
      "outputs": [
        {
          "output_type": "stream",
          "name": "stdout",
          "text": [
            "+---------+--------+------------------+-----------+--------------+----------+----------+-------------+--------+---------------+\n",
            "|longitude|latitude|housing_median_age|total_rooms|total_bedrooms|population|households|median_income|   price|ocean_proximity|\n",
            "+---------+--------+------------------+-----------+--------------+----------+----------+-------------+--------+---------------+\n",
            "|  -122.23|   37.88|              41.0|      880.0|         129.0|     322.0|     126.0|       8.3252|452600.0|       NEAR BAY|\n",
            "|  -122.22|   37.86|              21.0|     7099.0|        1106.0|    2401.0|    1138.0|       8.3014|358500.0|       NEAR BAY|\n",
            "|  -122.24|   37.85|              52.0|     1467.0|         190.0|     496.0|     177.0|       7.2574|352100.0|       NEAR BAY|\n",
            "|  -122.25|   37.85|              52.0|     1274.0|         235.0|     558.0|     219.0|       5.6431|341300.0|       NEAR BAY|\n",
            "|  -122.25|   37.85|              52.0|     1627.0|         280.0|     565.0|     259.0|       3.8462|342200.0|       NEAR BAY|\n",
            "+---------+--------+------------------+-----------+--------------+----------+----------+-------------+--------+---------------+\n",
            "only showing top 5 rows\n",
            "\n"
          ]
        }
      ]
    },
    {
      "cell_type": "markdown",
      "source": [
        "## Investigating outliers\n",
        "\n",
        "- Housing prices greater than 500,000 (expensive houses)"
      ],
      "metadata": {
        "id": "578m3FyFnddw"
      }
    },
    {
      "cell_type": "code",
      "source": [
        "print(\"No of houses: %i\" % cal_housing.select('price').count())\n",
        "print(\"No of houses greater than $500000 are: %i\" % cal_housing.filter(cal_housing[\"price\"] > 500000).count())"
      ],
      "metadata": {
        "colab": {
          "base_uri": "https://localhost:8080/"
        },
        "id": "yyfIv5NHdBGb",
        "outputId": "10b4b786-2295-4d40-bae3-ad3bb7d26343"
      },
      "execution_count": 224,
      "outputs": [
        {
          "output_type": "stream",
          "name": "stdout",
          "text": [
            "No of houses: 20640\n",
            "No of houses greater than $500000 are: 965\n"
          ]
        }
      ]
    },
    {
      "cell_type": "markdown",
      "source": [
        "## Reviewing Distribution of Prices\n",
        "\n",
        "- Majority of the prices range from 50,000 to 300,000\n",
        "\n",
        "- Prices are over 300,000 are the outliers\n"
      ],
      "metadata": {
        "id": "nAjLpmafqMaW"
      }
    },
    {
      "cell_type": "code",
      "source": [
        "sns.set_style(\"darkgrid\")\n",
        "sns.histplot(cal_housing.select('price').toPandas(), bins = 10)"
      ],
      "metadata": {
        "colab": {
          "base_uri": "https://localhost:8080/",
          "height": 448
        },
        "id": "9E9-UvwudilC",
        "outputId": "667b811e-ad8b-4815-b935-05ab880546ac"
      },
      "execution_count": 225,
      "outputs": [
        {
          "output_type": "execute_result",
          "data": {
            "text/plain": [
              "<Axes: ylabel='Count'>"
            ]
          },
          "metadata": {},
          "execution_count": 225
        },
        {
          "output_type": "display_data",
          "data": {
            "text/plain": [
              "<Figure size 640x480 with 1 Axes>"
            ],
            "image/png": "[encoded data removed]"
          },
          "metadata": {}
        }
      ]
    },
    {
      "cell_type": "markdown",
      "source": [
        "## Reviewing Ocean Proximity\n",
        "- A few catagories to review\n",
        "  - ISLAND\n",
        "  - NEAR OCEAN\n",
        "  - < 1H OCEAN\n",
        "  - INLAND"
      ],
      "metadata": {
        "id": "Q0OIgt_YrBgt"
      }
    },
    {
      "cell_type": "code",
      "source": [
        "cal_housing.select('ocean_proximity').distinct().show()"
      ],
      "metadata": {
        "colab": {
          "base_uri": "https://localhost:8080/"
        },
        "id": "Zaz19gsfheJ2",
        "outputId": "0b0ebd98-39a2-433f-c036-fca9d2de922d"
      },
      "execution_count": 226,
      "outputs": [
        {
          "output_type": "stream",
          "name": "stdout",
          "text": [
            "+---------------+\n",
            "|ocean_proximity|\n",
            "+---------------+\n",
            "|         ISLAND|\n",
            "|     NEAR OCEAN|\n",
            "|       NEAR BAY|\n",
            "|      <1H OCEAN|\n",
            "|         INLAND|\n",
            "+---------------+\n",
            "\n"
          ]
        }
      ]
    },
    {
      "cell_type": "markdown",
      "source": [
        "# Most expensive houses\n",
        " - Located near the ocean"
      ],
      "metadata": {
        "id": "YYdfDGOprleA"
      }
    },
    {
      "cell_type": "code",
      "source": [
        "df_i = cal_housing.groupby('ocean_proximity').agg({'median_income' : 'avg'})\n",
        "df_p = df_i.toPandas()\n",
        "sns.barplot(x = df_p['ocean_proximity'], y = df_p['avg(median_income)']*10000)"
      ],
      "metadata": {
        "colab": {
          "base_uri": "https://localhost:8080/",
          "height": 468
        },
        "id": "5LJZ30SOhoTg",
        "outputId": "75c23000-e155-42c5-aeb8-5558e64c8038"
      },
      "execution_count": 227,
      "outputs": [
        {
          "output_type": "execute_result",
          "data": {
            "text/plain": [
              "<Axes: xlabel='ocean_proximity', ylabel='avg(median_income)'>"
            ]
          },
          "metadata": {},
          "execution_count": 227
        },
        {
          "output_type": "display_data",
          "data": {
            "text/plain": [
              "<Figure size 640x480 with 1 Axes>"
            ],
            "image/png": "[encoded data removed]"
          },
          "metadata": {}
        }
      ]
    },
    {
      "cell_type": "markdown",
      "source": [
        "## Handling Null values in total _bedroom\n",
        " - We could have drop 207 rows of data,  however that much data loss will affect our predicted results. A better way of handling these nulls is to take the mean(average) and fill the nulls with this mean value."
      ],
      "metadata": {
        "id": "Ko9MTq4ftKnU"
      }
    },
    {
      "cell_type": "code",
      "source": [
        "mean = cal_housing.select(F.mean('total_bedrooms')).collect()[0][0]"
      ],
      "metadata": {
        "id": "WjPI97huvFyr"
      },
      "execution_count": 228,
      "outputs": []
    },
    {
      "cell_type": "markdown",
      "source": [
        "### Reviewing the mean value"
      ],
      "metadata": {
        "id": "zCqQ8QAduGA7"
      }
    },
    {
      "cell_type": "code",
      "source": [
        "mean"
      ],
      "metadata": {
        "colab": {
          "base_uri": "https://localhost:8080/"
        },
        "id": "xT1mt9P6sWVG",
        "outputId": "c66e4c45-2a2d-4bab-b6c2-7205a302fe52"
      },
      "execution_count": 229,
      "outputs": [
        {
          "output_type": "execute_result",
          "data": {
            "text/plain": [
              "537.8705525375618"
            ]
          },
          "metadata": {},
          "execution_count": 229
        }
      ]
    },
    {
      "cell_type": "markdown",
      "source": [
        "### Filling the total_bedrooms that are nulls with mean value\n",
        "\n"
      ],
      "metadata": {
        "id": "E0kImwc6uKkK"
      }
    },
    {
      "cell_type": "code",
      "source": [
        "cal_housing = cal_housing.na.fill({'total_bedrooms': mean})"
      ],
      "metadata": {
        "id": "EytCBW_wsXDS"
      },
      "execution_count": 230,
      "outputs": []
    },
    {
      "cell_type": "code",
      "source": [
        "cal_housing.show(5)"
      ],
      "metadata": {
        "colab": {
          "base_uri": "https://localhost:8080/"
        },
        "id": "Qhg1MsUyscBH",
        "outputId": "172f089d-9ff5-42a8-ca8e-7ebe221bb362"
      },
      "execution_count": 231,
      "outputs": [
        {
          "output_type": "stream",
          "name": "stdout",
          "text": [
            "+---------+--------+------------------+-----------+--------------+----------+----------+-------------+--------+---------------+\n",
            "|longitude|latitude|housing_median_age|total_rooms|total_bedrooms|population|households|median_income|   price|ocean_proximity|\n",
            "+---------+--------+------------------+-----------+--------------+----------+----------+-------------+--------+---------------+\n",
            "|  -122.23|   37.88|              41.0|      880.0|         129.0|     322.0|     126.0|       8.3252|452600.0|       NEAR BAY|\n",
            "|  -122.22|   37.86|              21.0|     7099.0|        1106.0|    2401.0|    1138.0|       8.3014|358500.0|       NEAR BAY|\n",
            "|  -122.24|   37.85|              52.0|     1467.0|         190.0|     496.0|     177.0|       7.2574|352100.0|       NEAR BAY|\n",
            "|  -122.25|   37.85|              52.0|     1274.0|         235.0|     558.0|     219.0|       5.6431|341300.0|       NEAR BAY|\n",
            "|  -122.25|   37.85|              52.0|     1627.0|         280.0|     565.0|     259.0|       3.8462|342200.0|       NEAR BAY|\n",
            "+---------+--------+------------------+-----------+--------------+----------+----------+-------------+--------+---------------+\n",
            "only showing top 5 rows\n",
            "\n"
          ]
        }
      ]
    },
    {
      "cell_type": "markdown",
      "source": [
        "## Checking if nulls values exist in 'total_bedrooms' columns\n",
        "\n",
        "- Looks like our filling with the mean values worked for total_bedroom"
      ],
      "metadata": {
        "id": "uQu1zlvaujF2"
      }
    },
    {
      "cell_type": "code",
      "source": [
        "#Checking if na values exist in 'total_bedrooms' columns\n",
        "cal_housing.filter(col('total_bedrooms').isNull()).show()"
      ],
      "metadata": {
        "colab": {
          "base_uri": "https://localhost:8080/"
        },
        "id": "eVAut36kxjtQ",
        "outputId": "a5a8b301-fd13-4b01-d95c-cd7e9d7be155"
      },
      "execution_count": 232,
      "outputs": [
        {
          "output_type": "stream",
          "name": "stdout",
          "text": [
            "+---------+--------+------------------+-----------+--------------+----------+----------+-------------+-----+---------------+\n",
            "|longitude|latitude|housing_median_age|total_rooms|total_bedrooms|population|households|median_income|price|ocean_proximity|\n",
            "+---------+--------+------------------+-----------+--------------+----------+----------+-------------+-----+---------------+\n",
            "+---------+--------+------------------+-----------+--------------+----------+----------+-------------+-----+---------------+\n",
            "\n"
          ]
        }
      ]
    },
    {
      "cell_type": "code",
      "source": [
        "for column in cal_housing.columns:\n",
        "    #print(column, cal_housing.filter(col(column).cast(\"float\").isin([None,np.nan])).count())\n",
        "    print (column, cal_housing.filter(col(column).cast(\"float\").isNull()).count())\n"
      ],
      "metadata": {
        "colab": {
          "base_uri": "https://localhost:8080/"
        },
        "id": "6PDSyo1RwxLF",
        "outputId": "f82e5e00-9a54-4897-c402-b658a0f1623c"
      },
      "execution_count": 233,
      "outputs": [
        {
          "output_type": "stream",
          "name": "stdout",
          "text": [
            "longitude 0\n",
            "latitude 0\n",
            "housing_median_age 0\n",
            "total_rooms 0\n",
            "total_bedrooms 0\n",
            "population 0\n",
            "households 0\n",
            "median_income 0\n",
            "price 0\n",
            "ocean_proximity 20640\n"
          ]
        }
      ]
    },
    {
      "cell_type": "markdown",
      "metadata": {
        "id": "7vn1ZLLh8WhW"
      },
      "source": [
        "# Section 3: Transform the clean data\n",
        "\n",
        "10 points\n",
        "\n",
        "Once you have clean data, start to prepare it to fit your analysis tools. This might mean using custom code to normalize certain values, joining supplemental datasets, and/or preparing it for machine learning.\n",
        "\n",
        "### This section should include one or more of the following:\n",
        "- Write a UDF to perform a function, then use it to add a new column to your data. Explain why in [markdown](https://www.markdownguide.org/cheat-sheet)\n",
        "- Join an outside data source. (It can be one you've prepared alongside the primary source you're using, as long as you link it)\n",
        "- Split the data into train/test sets\n",
        "- Create vectors for relavent features\n",
        "- One-hot encode catagorical variables"
      ]
    },
    {
      "cell_type": "markdown",
      "source": [
        "## Label-encoding for the \"ocean_proximity\" column\n",
        "- Converting catagorical column ocean_promximity into a numerical column\n",
        "\n",
        "- Reason we convert Categorical data to numerical data is our machine learning algorithms, as most algorithms are primarily designed to operate with numerical data only\n",
        "\n",
        "- We will be using StringIndexer which will allows us to convert the ocean_proxmity columns to a numerical data"
      ],
      "metadata": {
        "id": "c9zCJPCFvdOT"
      }
    },
    {
      "cell_type": "markdown",
      "source": [
        "### First lets check for null values for ocean_proximity"
      ],
      "metadata": {
        "id": "FRi_sDRqwdrP"
      }
    },
    {
      "cell_type": "code",
      "source": [
        "for column in cal_housing.columns:\n",
        "    print (column, cal_housing.filter(col(column).cast(\"float\").isNull()).count())"
      ],
      "metadata": {
        "colab": {
          "base_uri": "https://localhost:8080/"
        },
        "id": "HupG4nTEwihH",
        "outputId": "931ae5c0-7f70-49c1-bea2-c4c00e94fb04"
      },
      "execution_count": 234,
      "outputs": [
        {
          "output_type": "stream",
          "name": "stdout",
          "text": [
            "longitude 0\n",
            "latitude 0\n",
            "housing_median_age 0\n",
            "total_rooms 0\n",
            "total_bedrooms 0\n",
            "population 0\n",
            "households 0\n",
            "median_income 0\n",
            "price 0\n",
            "ocean_proximity 20640\n"
          ]
        }
      ]
    },
    {
      "cell_type": "markdown",
      "source": [
        "### Using StringIndexer to correct these Nulls values for ocean_proxmity\n",
        "\n",
        "- Removed nulls from ocean_proxmity\n",
        "- We renamed ocean_proxmity columns to ocean_proxmity_index\n",
        "\n",
        "- ocean_proxmity_index is the numerical represenation of the categorical column ocean_proxmity"
      ],
      "metadata": {
        "id": "GRRS4tRPxVVM"
      }
    },
    {
      "cell_type": "code",
      "execution_count": 235,
      "metadata": {
        "id": "buHJ1SEJHvMK",
        "colab": {
          "base_uri": "https://localhost:8080/"
        },
        "outputId": "b43217f3-fa57-409d-e574-7f4d9ed81de4"
      },
      "outputs": [
        {
          "output_type": "stream",
          "name": "stdout",
          "text": [
            "longitude 0\n",
            "latitude 0\n",
            "housing_median_age 0\n",
            "total_rooms 0\n",
            "total_bedrooms 0\n",
            "population 0\n",
            "households 0\n",
            "median_income 0\n",
            "price 0\n",
            "ocean_proximity 20640\n"
          ]
        }
      ],
      "source": [
        "for column in cal_housing.columns:\n",
        "    print (column, cal_housing.filter(col(column).cast(\"float\").isNull()).count())"
      ]
    },
    {
      "cell_type": "code",
      "source": [
        "from pyspark.ml.feature import StringIndexer\n",
        "\n",
        "indexer = StringIndexer(inputCol=\"ocean_proximity\", outputCol=\"ocean_proximity_index\")\n",
        "cal_housing = indexer.fit(cal_housing).transform(cal_housing)\n",
        "cal_housing = cal_housing.drop('ocean_proximity')\n",
        "cal_housing.select('ocean_proximity_index').show(3)"
      ],
      "metadata": {
        "colab": {
          "base_uri": "https://localhost:8080/"
        },
        "id": "wMAMw2-vyHOS",
        "outputId": "40069371-51a5-4d05-e7ba-e031b671ee67"
      },
      "execution_count": 236,
      "outputs": [
        {
          "output_type": "stream",
          "name": "stdout",
          "text": [
            "+---------------------+\n",
            "|ocean_proximity_index|\n",
            "+---------------------+\n",
            "|                  3.0|\n",
            "|                  3.0|\n",
            "|                  3.0|\n",
            "+---------------------+\n",
            "only showing top 3 rows\n",
            "\n"
          ]
        }
      ]
    },
    {
      "cell_type": "markdown",
      "source": [
        "## Determine features using Correlation heatmap\n",
        "\n",
        "- Identify which features to include in the predictive model\n",
        "\n",
        "- We will use a correlation heatmap.  Not sure what correlation is [click here to read more\n",
        "](https://www.jmp.com/en_us/statistics-knowledge-portal/what-is-correlation.html#:~:text=What%20is%20correlation%3F,statement%20about%20cause%20and%20effect.)\n",
        "- Highly correlated features improved the preditive power of our model\n",
        "- The code below performs the following\n",
        "  - Convert to vector column first\n",
        "  - Gets a correlation matrix\n",
        "  - Converts dataframe to pandas in order to plot\n",
        "  - Finally plots that matrix"
      ],
      "metadata": {
        "id": "uDoIgJCo2VX2"
      }
    },
    {
      "cell_type": "code",
      "source": [
        "from pyspark.ml.stat import Correlation\n",
        "from pyspark.ml.feature import VectorAssembler\n",
        "\n",
        "\n",
        "assembler = VectorAssembler(inputCols=cal_housing.columns, outputCol=\"features\")\n",
        "df_vector = assembler.transform(cal_housing).select(\"features\")\n",
        "\n",
        "matrix = Correlation.corr(df_vector, 'features')\n",
        "corrmatrix = matrix.collect()[0][0].toArray().tolist()\n",
        "\n",
        "df_corr = pd.DataFrame(corrmatrix, columns = cal_housing.columns, index = cal_housing.columns)\n",
        "\n",
        "\n",
        "sns.heatmap(df_corr)"
      ],
      "metadata": {
        "colab": {
          "base_uri": "https://localhost:8080/",
          "height": 636
        },
        "id": "dnoK3W54mwJw",
        "outputId": "a107d862-a9c8-4927-b211-a24d9bf2860f"
      },
      "execution_count": 237,
      "outputs": [
        {
          "output_type": "stream",
          "name": "stderr",
          "text": [
            "/content/spark-3.2.4-bin-hadoop2.7/python/pyspark/sql/context.py:125: FutureWarning: Deprecated in 3.0.0. Use SparkSession.builder.getOrCreate() instead.\n",
            "  warnings.warn(\n"
          ]
        },
        {
          "output_type": "execute_result",
          "data": {
            "text/plain": [
              "<Axes: >"
            ]
          },
          "metadata": {},
          "execution_count": 237
        },
        {
          "output_type": "display_data",
          "data": {
            "text/plain": [
              "<Figure size 640x480 with 2 Axes>"
            ],
            "image/png": "[encoded data removed]"
          },
          "metadata": {}
        }
      ]
    },
    {
      "cell_type": "markdown",
      "source": [
        "## Select only correlated columns\n",
        "\n",
        "  - housing_median_age\n",
        "  - population\n",
        "  - total_rooms\n",
        "  - total_bedrooms\n",
        "  - median_income\n",
        "  - price"
      ],
      "metadata": {
        "id": "FTchIP9O2lZG"
      }
    },
    {
      "cell_type": "code",
      "source": [
        "df_model = cal_housing.select(['housing_median_age','population','total_rooms','total_bedrooms','median_income','price'])\n",
        "df_model.show(3)"
      ],
      "metadata": {
        "colab": {
          "base_uri": "https://localhost:8080/"
        },
        "id": "lGNzDZfRmwBv",
        "outputId": "67185d98-fd5d-434d-f471-8d4d77cd75b7"
      },
      "execution_count": 238,
      "outputs": [
        {
          "output_type": "stream",
          "name": "stdout",
          "text": [
            "+------------------+----------+-----------+--------------+-------------+--------+\n",
            "|housing_median_age|population|total_rooms|total_bedrooms|median_income|   price|\n",
            "+------------------+----------+-----------+--------------+-------------+--------+\n",
            "|              41.0|     322.0|      880.0|         129.0|       8.3252|452600.0|\n",
            "|              21.0|    2401.0|     7099.0|        1106.0|       8.3014|358500.0|\n",
            "|              52.0|     496.0|     1467.0|         190.0|       7.2574|352100.0|\n",
            "+------------------+----------+-----------+--------------+-------------+--------+\n",
            "only showing top 3 rows\n",
            "\n"
          ]
        }
      ]
    },
    {
      "cell_type": "markdown",
      "source": [
        "## Normal Distribution\n",
        " - What is a normal distribution,  [Click here to read more](https://www.investopedia.com/articles/active-trading/092914/normal-distribution-table-explained.asp)\n",
        "\n",
        "## Checking normal distribution of selected features housing_median_age\n",
        "- housing_median_age is normally distributed"
      ],
      "metadata": {
        "id": "zPc_UOen8vNB"
      }
    },
    {
      "cell_type": "code",
      "source": [
        "sns.distplot(cal_housing.select('housing_median_age').toPandas(), color=\"skyblue\")\n",
        "cal_housing.select(F.skewness('price'), F.kurtosis('price')).show()"
      ],
      "metadata": {
        "colab": {
          "base_uri": "https://localhost:8080/",
          "height": 740
        },
        "id": "OHZGL3WZzTv-",
        "outputId": "2819a2d2-fe94-4a67-fa6e-6abee129c613"
      },
      "execution_count": 239,
      "outputs": [
        {
          "output_type": "stream",
          "name": "stderr",
          "text": [
            "<ipython-input-239-558cab34c4ee>:1: UserWarning: \n",
            "\n",
            "`distplot` is a deprecated function and will be removed in seaborn v0.14.0.\n",
            "\n",
            "Please adapt your code to use either `displot` (a figure-level function with\n",
            "similar flexibility) or `histplot` (an axes-level function for histograms).\n",
            "\n",
            "For a guide to updating your code to use the new functions, please see\n",
            "https://gist.github.com/mwaskom/de44147ed2974457ad6372750bbe5751\n",
            "\n",
            "  sns.distplot(cal_housing.select('housing_median_age').toPandas(), color=\"skyblue\")\n"
          ]
        },
        {
          "output_type": "stream",
          "name": "stdout",
          "text": [
            "+------------------+------------------+\n",
            "|   skewness(price)|   kurtosis(price)|\n",
            "+------------------+------------------+\n",
            "|0.9776922140978437|0.3275001388119674|\n",
            "+------------------+------------------+\n",
            "\n"
          ]
        },
        {
          "output_type": "display_data",
          "data": {
            "text/plain": [
              "<Figure size 640x480 with 1 Axes>"
            ],
            "image/png": "[encoded data removed]"
          },
          "metadata": {}
        }
      ]
    },
    {
      "cell_type": "markdown",
      "source": [
        "## Checking normal distribution of selected features total_rooms\n",
        "total_rooms is not normally distributed"
      ],
      "metadata": {
        "id": "sZJDkA8sRXJz"
      }
    },
    {
      "cell_type": "code",
      "source": [
        "sns.distplot(cal_housing.select('total_rooms').toPandas(), color=\"skyblue\")\n",
        "df_model.select(F.skewness('total_rooms'), F.kurtosis('total_rooms')).show()\n",
        "\n"
      ],
      "metadata": {
        "colab": {
          "base_uri": "https://localhost:8080/",
          "height": 740
        },
        "id": "Yv9NvLb3z_7O",
        "outputId": "53e3ecf9-1692-40f5-a8b5-adde1cd9b939"
      },
      "execution_count": 240,
      "outputs": [
        {
          "output_type": "stream",
          "name": "stderr",
          "text": [
            "<ipython-input-240-20a08663eeab>:1: UserWarning: \n",
            "\n",
            "`distplot` is a deprecated function and will be removed in seaborn v0.14.0.\n",
            "\n",
            "Please adapt your code to use either `displot` (a figure-level function with\n",
            "similar flexibility) or `histplot` (an axes-level function for histograms).\n",
            "\n",
            "For a guide to updating your code to use the new functions, please see\n",
            "https://gist.github.com/mwaskom/de44147ed2974457ad6372750bbe5751\n",
            "\n",
            "  sns.distplot(cal_housing.select('total_rooms').toPandas(), color=\"skyblue\")\n"
          ]
        },
        {
          "output_type": "stream",
          "name": "stdout",
          "text": [
            "+---------------------+---------------------+\n",
            "|skewness(total_rooms)|kurtosis(total_rooms)|\n",
            "+---------------------+---------------------+\n",
            "|    4.147042038773302|    32.62273207294906|\n",
            "+---------------------+---------------------+\n",
            "\n"
          ]
        },
        {
          "output_type": "display_data",
          "data": {
            "text/plain": [
              "<Figure size 640x480 with 1 Axes>"
            ],
            "image/png": "[encoded data removed]"
          },
          "metadata": {}
        }
      ]
    },
    {
      "cell_type": "markdown",
      "source": [
        "### Checking normal distribution of selected features total_bedrooms\n",
        "- total_bedrooms is not normally distributed"
      ],
      "metadata": {
        "id": "QbNn-iwU9K3E"
      }
    },
    {
      "cell_type": "code",
      "source": [
        "sns.distplot(cal_housing.select('total_bedrooms').toPandas(), color=\"skyblue\")\n",
        "df_model.select(F.skewness('total_bedrooms'), F.kurtosis('total_bedrooms')).show()"
      ],
      "metadata": {
        "colab": {
          "base_uri": "https://localhost:8080/",
          "height": 740
        },
        "id": "z3jnZZUf4Dvh",
        "outputId": "5cecb298-61c6-4aa1-ce72-317829b1f4f8"
      },
      "execution_count": 241,
      "outputs": [
        {
          "output_type": "stream",
          "name": "stderr",
          "text": [
            "<ipython-input-241-63915b8524e9>:1: UserWarning: \n",
            "\n",
            "`distplot` is a deprecated function and will be removed in seaborn v0.14.0.\n",
            "\n",
            "Please adapt your code to use either `displot` (a figure-level function with\n",
            "similar flexibility) or `histplot` (an axes-level function for histograms).\n",
            "\n",
            "For a guide to updating your code to use the new functions, please see\n",
            "https://gist.github.com/mwaskom/de44147ed2974457ad6372750bbe5751\n",
            "\n",
            "  sns.distplot(cal_housing.select('total_bedrooms').toPandas(), color=\"skyblue\")\n"
          ]
        },
        {
          "output_type": "stream",
          "name": "stdout",
          "text": [
            "+------------------------+------------------------+\n",
            "|skewness(total_bedrooms)|kurtosis(total_bedrooms)|\n",
            "+------------------------+------------------------+\n",
            "|       3.476770679879877|      22.232965049370016|\n",
            "+------------------------+------------------------+\n",
            "\n"
          ]
        },
        {
          "output_type": "display_data",
          "data": {
            "text/plain": [
              "<Figure size 640x480 with 1 Axes>"
            ],
            "image/png": "[encoded data removed]"
          },
          "metadata": {}
        }
      ]
    },
    {
      "cell_type": "markdown",
      "source": [
        "## Using lograthimic scale to normalize the data for total_rooms & total_bedrooms\n",
        "\n",
        "- Why we will be reducing the impact of outliers that we have indentified and also transforming the skewed data to approximate normality\n",
        "\n",
        "- You can read more about [lograthimic scale here](https://campus.datacamp.com/courses/preprocessing-for-machine-learning-in-python/standardizing-data?ex=4)\n"
      ],
      "metadata": {
        "id": "_yIJXRxJ9kF_"
      }
    },
    {
      "cell_type": "code",
      "source": [
        "\n",
        "df_model = df_model.withColumn(\"total_rooms_log\", F.log10(col(\"total_rooms\")))\n",
        "\n",
        "sns.distplot(df_model.select('total_rooms_log').toPandas(), color=\"skyblue\")\n",
        "df_model.select(F.skewness('total_rooms_log'), F.kurtosis('total_rooms_log')).show()\n"
      ],
      "metadata": {
        "colab": {
          "base_uri": "https://localhost:8080/",
          "height": 740
        },
        "id": "5ZLN3sil0RXs",
        "outputId": "d96e3daf-1c9f-439e-c077-0c3befe8af44"
      },
      "execution_count": 242,
      "outputs": [
        {
          "output_type": "stream",
          "name": "stderr",
          "text": [
            "<ipython-input-242-36306d040bd6>:3: UserWarning: \n",
            "\n",
            "`distplot` is a deprecated function and will be removed in seaborn v0.14.0.\n",
            "\n",
            "Please adapt your code to use either `displot` (a figure-level function with\n",
            "similar flexibility) or `histplot` (an axes-level function for histograms).\n",
            "\n",
            "For a guide to updating your code to use the new functions, please see\n",
            "https://gist.github.com/mwaskom/de44147ed2974457ad6372750bbe5751\n",
            "\n",
            "  sns.distplot(df_model.select('total_rooms_log').toPandas(), color=\"skyblue\")\n"
          ]
        },
        {
          "output_type": "stream",
          "name": "stdout",
          "text": [
            "+-------------------------+-------------------------+\n",
            "|skewness(total_rooms_log)|kurtosis(total_rooms_log)|\n",
            "+-------------------------+-------------------------+\n",
            "|      -1.0972584854175316|         5.25204961078785|\n",
            "+-------------------------+-------------------------+\n",
            "\n"
          ]
        },
        {
          "output_type": "display_data",
          "data": {
            "text/plain": [
              "<Figure size 640x480 with 1 Axes>"
            ],
            "image/png": "[encoded data removed]"
          },
          "metadata": {}
        }
      ]
    },
    {
      "cell_type": "code",
      "source": [
        "\n",
        "df_model = df_model.withColumn(\"total_bedrooms_log\", F.log10(col(\"total_bedrooms\")))\n",
        "\n",
        "sns.distplot(df_model.select('total_bedrooms_log').toPandas(), color=\"skyblue\")\n",
        "df_model.select(F.skewness('total_bedrooms_log'), F.kurtosis('total_bedrooms_log')).show()\n"
      ],
      "metadata": {
        "colab": {
          "base_uri": "https://localhost:8080/",
          "height": 740
        },
        "id": "UA6cQ3lU4sAo",
        "outputId": "055c6bc8-2da1-4981-949d-8609b7c1935b"
      },
      "execution_count": 243,
      "outputs": [
        {
          "output_type": "stream",
          "name": "stderr",
          "text": [
            "<ipython-input-243-18e8414aad4d>:3: UserWarning: \n",
            "\n",
            "`distplot` is a deprecated function and will be removed in seaborn v0.14.0.\n",
            "\n",
            "Please adapt your code to use either `displot` (a figure-level function with\n",
            "similar flexibility) or `histplot` (an axes-level function for histograms).\n",
            "\n",
            "For a guide to updating your code to use the new functions, please see\n",
            "https://gist.github.com/mwaskom/de44147ed2974457ad6372750bbe5751\n",
            "\n",
            "  sns.distplot(df_model.select('total_bedrooms_log').toPandas(), color=\"skyblue\")\n"
          ]
        },
        {
          "output_type": "stream",
          "name": "stdout",
          "text": [
            "+----------------------------+----------------------------+\n",
            "|skewness(total_bedrooms_log)|kurtosis(total_bedrooms_log)|\n",
            "+----------------------------+----------------------------+\n",
            "|         -1.0805050813078412|           5.178808742167776|\n",
            "+----------------------------+----------------------------+\n",
            "\n"
          ]
        },
        {
          "output_type": "display_data",
          "data": {
            "text/plain": [
              "<Figure size 640x480 with 1 Axes>"
            ],
            "image/png": "[encoded data removed]"
          },
          "metadata": {}
        }
      ]
    },
    {
      "cell_type": "markdown",
      "source": [
        "### Checking normal distribution of selected fetures\n",
        "\n",
        "- median_income is normally distributed"
      ],
      "metadata": {
        "id": "7dZnBbVL_Ux7"
      }
    },
    {
      "cell_type": "code",
      "source": [
        "sns.distplot(cal_housing.select('median_income').toPandas(), color=\"skyblue\")\n",
        "cal_housing.select(F.skewness('median_income'), F.kurtosis('median_income')).show()"
      ],
      "metadata": {
        "colab": {
          "base_uri": "https://localhost:8080/",
          "height": 740
        },
        "id": "l-qOkae80IEU",
        "outputId": "3347ae50-fdce-4d8e-865a-23990bf358f9"
      },
      "execution_count": 244,
      "outputs": [
        {
          "output_type": "stream",
          "name": "stderr",
          "text": [
            "<ipython-input-244-8f843996c88c>:1: UserWarning: \n",
            "\n",
            "`distplot` is a deprecated function and will be removed in seaborn v0.14.0.\n",
            "\n",
            "Please adapt your code to use either `displot` (a figure-level function with\n",
            "similar flexibility) or `histplot` (an axes-level function for histograms).\n",
            "\n",
            "For a guide to updating your code to use the new functions, please see\n",
            "https://gist.github.com/mwaskom/de44147ed2974457ad6372750bbe5751\n",
            "\n",
            "  sns.distplot(cal_housing.select('median_income').toPandas(), color=\"skyblue\")\n"
          ]
        },
        {
          "output_type": "stream",
          "name": "stdout",
          "text": [
            "+-----------------------+-----------------------+\n",
            "|skewness(median_income)|kurtosis(median_income)|\n",
            "+-----------------------+-----------------------+\n",
            "|     1.6465370299001063|      4.951033760409806|\n",
            "+-----------------------+-----------------------+\n",
            "\n"
          ]
        },
        {
          "output_type": "display_data",
          "data": {
            "text/plain": [
              "<Figure size 640x480 with 1 Axes>"
            ],
            "image/png": "[encoded data removed]"
          },
          "metadata": {}
        }
      ]
    },
    {
      "cell_type": "markdown",
      "source": [
        "### Checking normal distribution of selected features population\n",
        "- population is not normally distributed"
      ],
      "metadata": {
        "id": "nlUUWXOk-tJQ"
      }
    },
    {
      "cell_type": "code",
      "source": [
        "\n",
        "sns.distplot(cal_housing.select('population').toPandas(), color=\"skyblue\")\n",
        "df_model.select(F.skewness('population'), F.kurtosis('population')).show()\n"
      ],
      "metadata": {
        "colab": {
          "base_uri": "https://localhost:8080/",
          "height": 740
        },
        "id": "uRbiNbTO5ngl",
        "outputId": "878c2d4a-6abf-47c3-9487-d96e1ff9f7fe"
      },
      "execution_count": 245,
      "outputs": [
        {
          "output_type": "stream",
          "name": "stderr",
          "text": [
            "<ipython-input-245-d436f292f557>:1: UserWarning: \n",
            "\n",
            "`distplot` is a deprecated function and will be removed in seaborn v0.14.0.\n",
            "\n",
            "Please adapt your code to use either `displot` (a figure-level function with\n",
            "similar flexibility) or `histplot` (an axes-level function for histograms).\n",
            "\n",
            "For a guide to updating your code to use the new functions, please see\n",
            "https://gist.github.com/mwaskom/de44147ed2974457ad6372750bbe5751\n",
            "\n",
            "  sns.distplot(cal_housing.select('population').toPandas(), color=\"skyblue\")\n"
          ]
        },
        {
          "output_type": "stream",
          "name": "stdout",
          "text": [
            "+--------------------+--------------------+\n",
            "|skewness(population)|kurtosis(population)|\n",
            "+--------------------+--------------------+\n",
            "|   4.935499508858543|    73.5350088192234|\n",
            "+--------------------+--------------------+\n",
            "\n"
          ]
        },
        {
          "output_type": "display_data",
          "data": {
            "text/plain": [
              "<Figure size 640x480 with 1 Axes>"
            ],
            "image/png": "[encoded data removed]"
          },
          "metadata": {}
        }
      ]
    },
    {
      "cell_type": "markdown",
      "source": [
        "### Using lograthimic scale to normalize the data for population\n"
      ],
      "metadata": {
        "id": "-7vcp6mb--aA"
      }
    },
    {
      "cell_type": "code",
      "source": [
        "\n",
        "df_model = df_model.withColumn(\"population_log\", F.log10(col(\"population\")))\n",
        "\n",
        "sns.distplot(df_model.select('population_log').toPandas(), color=\"skyblue\")\n",
        "df_model.select(F.skewness('population_log'), F.kurtosis('population_log')).show()\n"
      ],
      "metadata": {
        "colab": {
          "base_uri": "https://localhost:8080/",
          "height": 740
        },
        "id": "CsHKCE7I50eL",
        "outputId": "0fabe61b-54c1-4d56-9abf-2e6fd30c080d"
      },
      "execution_count": 246,
      "outputs": [
        {
          "output_type": "stream",
          "name": "stderr",
          "text": [
            "<ipython-input-246-32fc1f4a8136>:3: UserWarning: \n",
            "\n",
            "`distplot` is a deprecated function and will be removed in seaborn v0.14.0.\n",
            "\n",
            "Please adapt your code to use either `displot` (a figure-level function with\n",
            "similar flexibility) or `histplot` (an axes-level function for histograms).\n",
            "\n",
            "For a guide to updating your code to use the new functions, please see\n",
            "https://gist.github.com/mwaskom/de44147ed2974457ad6372750bbe5751\n",
            "\n",
            "  sns.distplot(df_model.select('population_log').toPandas(), color=\"skyblue\")\n"
          ]
        },
        {
          "output_type": "stream",
          "name": "stdout",
          "text": [
            "+------------------------+------------------------+\n",
            "|skewness(population_log)|kurtosis(population_log)|\n",
            "+------------------------+------------------------+\n",
            "|     -1.0707082805861496|       4.668771428771045|\n",
            "+------------------------+------------------------+\n",
            "\n"
          ]
        },
        {
          "output_type": "display_data",
          "data": {
            "text/plain": [
              "<Figure size 640x480 with 1 Axes>"
            ],
            "image/png": "[encoded data removed]"
          },
          "metadata": {}
        }
      ]
    },
    {
      "cell_type": "markdown",
      "source": [
        "## Assembling features\n",
        " - Why is this important.  These are the building block of a dataset and the quality of the feature has a major impact of the quality of our predictions.\n",
        "\n",
        " - Also is why we used a corelation heatmap to help us determine what the best features are\n",
        "\n",
        ""
      ],
      "metadata": {
        "id": "fT9_G6dOCoh8"
      }
    },
    {
      "cell_type": "code",
      "source": [
        "from pyspark.ml.stat import Correlation\n",
        "from pyspark.ml.feature import VectorAssembler\n",
        "\n",
        "feature_assembly = VectorAssembler(inputCols = ['housing_median_age','total_rooms_log','total_bedrooms_log','population_log','median_income'], outputCol = 'features')\n",
        "output = feature_assembly.transform(df_model)\n",
        "output.show(3)"
      ],
      "metadata": {
        "colab": {
          "base_uri": "https://localhost:8080/"
        },
        "id": "J72LEj2b0ZUg",
        "outputId": "65a1dce5-2d04-4109-f208-a907137f5327"
      },
      "execution_count": 247,
      "outputs": [
        {
          "output_type": "stream",
          "name": "stdout",
          "text": [
            "+------------------+----------+-----------+--------------+-------------+--------+------------------+------------------+------------------+--------------------+\n",
            "|housing_median_age|population|total_rooms|total_bedrooms|median_income|   price|   total_rooms_log|total_bedrooms_log|    population_log|            features|\n",
            "+------------------+----------+-----------+--------------+-------------+--------+------------------+------------------+------------------+--------------------+\n",
            "|              41.0|     322.0|      880.0|         129.0|       8.3252|452600.0|2.9444826721501687| 2.110589710299249| 2.507855871695831|[41.0,2.944482672...|\n",
            "|              21.0|    2401.0|     7099.0|        1106.0|       8.3014|358500.0|3.8511971761741606|3.0437551269686796|3.3803921600570273|[21.0,3.851197176...|\n",
            "|              52.0|     496.0|     1467.0|         190.0|       7.2574|352100.0| 3.166430113843283| 2.278753600952829|2.6954816764901977|[52.0,3.166430113...|\n",
            "+------------------+----------+-----------+--------------+-------------+--------+------------------+------------------+------------------+--------------------+\n",
            "only showing top 3 rows\n",
            "\n"
          ]
        }
      ]
    },
    {
      "cell_type": "markdown",
      "source": [
        "## Selecing what we want to predict against our feature set"
      ],
      "metadata": {
        "id": "D1Sz-uAFCy94"
      }
    },
    {
      "cell_type": "code",
      "source": [
        "df_model_final = output.select(['price', 'features'])\n",
        "df_model_final.show(3)"
      ],
      "metadata": {
        "colab": {
          "base_uri": "https://localhost:8080/"
        },
        "id": "BlkmGo-x0yt_",
        "outputId": "eaa06542-3e5c-4ac5-8496-e580fb32914a"
      },
      "execution_count": 248,
      "outputs": [
        {
          "output_type": "stream",
          "name": "stdout",
          "text": [
            "+--------+--------------------+\n",
            "|   price|            features|\n",
            "+--------+--------------------+\n",
            "|452600.0|[41.0,2.944482672...|\n",
            "|358500.0|[21.0,3.851197176...|\n",
            "|352100.0|[52.0,3.166430113...|\n",
            "+--------+--------------------+\n",
            "only showing top 3 rows\n",
            "\n"
          ]
        }
      ]
    },
    {
      "cell_type": "markdown",
      "metadata": {
        "id": "nV7baCwkIDc7"
      },
      "source": [
        "# Section 4: Show your analysis of the data\n",
        "\n",
        "10 points\n",
        "\n",
        "This is where the science happens. Use your data to show some kind of insight, and how you got there. Make the reader understand why it's important, and how they can get the same conslusion, and/or what would need to change to reach a different one.\n",
        "\n",
        "### This section should include one or more of the following:\n",
        "- Fit the data to a model\n",
        "- Show the outcome of clustering, regression, and/or classification algorithms.\n",
        " - We used several in class, but you can use whatever fits your needs for this assignment\n",
        "- Reccomend a product/item\n",
        "- Use a SQL query to filter results\n"
      ]
    },
    {
      "cell_type": "markdown",
      "source": [
        "## Creating a training and testing set"
      ],
      "metadata": {
        "id": "7ZY78ymHDBCu"
      }
    },
    {
      "cell_type": "code",
      "source": [
        "\n",
        "df_train, df_test = df_model_final.randomSplit([0.70, 0.30])"
      ],
      "metadata": {
        "id": "VG9o1HP6h0Wq"
      },
      "execution_count": 249,
      "outputs": []
    },
    {
      "cell_type": "markdown",
      "source": [
        "## Using LinearRegression for our prediction for our training dataset"
      ],
      "metadata": {
        "id": "C0bOfTJMDSVN"
      }
    },
    {
      "cell_type": "code",
      "execution_count": 250,
      "metadata": {
        "id": "MPWkF1xNKVS6"
      },
      "outputs": [],
      "source": [
        "from pyspark.ml.regression import LinearRegression\n",
        "\n",
        "\n",
        "house_lr = LinearRegression(featuresCol = 'features', labelCol = 'price')\n",
        "trained_house_model = house_lr.fit(df_train)\n",
        "house_results = trained_house_model.evaluate(df_train)"
      ]
    },
    {
      "cell_type": "markdown",
      "source": [
        "## Displaying our predicted training results"
      ],
      "metadata": {
        "id": "4qjmf5uzDepl"
      }
    },
    {
      "cell_type": "code",
      "source": [
        "predictions = trained_house_model.transform(df_train)\n",
        "predictions.sort('price').show(5)"
      ],
      "metadata": {
        "colab": {
          "base_uri": "https://localhost:8080/"
        },
        "id": "IIrxdc9BE-LB",
        "outputId": "02bbbf67-d4d9-40fb-e97a-14685228432e"
      },
      "execution_count": 251,
      "outputs": [
        {
          "output_type": "stream",
          "name": "stdout",
          "text": [
            "+-------+--------------------+------------------+\n",
            "|  price|            features|        prediction|\n",
            "+-------+--------------------+------------------+\n",
            "|14999.0|[36.0,1.991226075...|114671.59580713787|\n",
            "|14999.0|[16.0,2.406540180...|117190.82809971635|\n",
            "|14999.0|[52.0,2.904715545...| 307613.2551943768|\n",
            "|17500.0|[39.0,2.692846919...|207408.52286670983|\n",
            "|22500.0|[8.0,3.9989129043...| 92151.07009847477|\n",
            "+-------+--------------------+------------------+\n",
            "only showing top 5 rows\n",
            "\n"
          ]
        }
      ]
    },
    {
      "cell_type": "markdown",
      "source": [
        "## Using LinearRegression for our prediction for our test dataset"
      ],
      "metadata": {
        "id": "m6_mxkx4F1Dh"
      }
    },
    {
      "cell_type": "code",
      "source": [
        "from pyspark.ml.regression import LinearRegression\n",
        "\n",
        "house_lr = LinearRegression(featuresCol = 'features', labelCol = 'price')\n",
        "trained_house_model = house_lr.fit(df_test)\n",
        "house_results = trained_house_model.evaluate(df_test)"
      ],
      "metadata": {
        "id": "EZc_67_mFoLQ"
      },
      "execution_count": 252,
      "outputs": []
    },
    {
      "cell_type": "markdown",
      "source": [
        "## Displaying our predicted test results"
      ],
      "metadata": {
        "id": "p41rghgtF-VR"
      }
    },
    {
      "cell_type": "code",
      "source": [
        "predictions = trained_house_model.transform(df_test)\n",
        "predictions.sort('price').show(5)"
      ],
      "metadata": {
        "colab": {
          "base_uri": "https://localhost:8080/"
        },
        "id": "nUR9JgmHFtto",
        "outputId": "c1bb9e5c-83ff-42f7-dcbd-be7ad3c0c4f4"
      },
      "execution_count": 253,
      "outputs": [
        {
          "output_type": "stream",
          "name": "stdout",
          "text": [
            "+-------+--------------------+------------------+\n",
            "|  price|            features|        prediction|\n",
            "+-------+--------------------+------------------+\n",
            "|14999.0|[19.0,2.791690649...|160232.10441483415|\n",
            "|22500.0|[52.0,2.926856708...| 194809.3823757667|\n",
            "|26600.0|[34.0,3.158362492...|134723.07037640654|\n",
            "|27500.0|[17.0,1.986771734...| 71469.89714361329|\n",
            "|28300.0|[29.0,4.248904650...|133801.69628562272|\n",
            "+-------+--------------------+------------------+\n",
            "only showing top 5 rows\n",
            "\n"
          ]
        }
      ]
    },
    {
      "cell_type": "markdown",
      "source": [
        "## Understanding what our predictions mean\n",
        "- MSE - Mean Squared Error (MSE) measures the amount of error in a statistical model. THe lower the value , the better the model is\n",
        "\n",
        "- Here is a [link to read up on MSE](https://statisticsbyjim.com/regression/mean-squared-error-mse/#:~:text=Mean%20squared%20error%20(MSE)%20measures,error%20increases%2C%20its%20value%20increases.)\n",
        "\n",
        "- R2 - Tell us how well our data fit the regression model.  Below we see that our R2 is 58%. More information on [R2 click here](https://corporatefinanceinstitute.com/resources/data-science/r-squared/)\n",
        "\n",
        "\n"
      ],
      "metadata": {
        "id": "rn0DagOEDlJb"
      }
    },
    {
      "cell_type": "code",
      "source": [
        "pred_results = trained_house_model.evaluate(df_train)\n",
        "print(\"The MSE for the model is: %2f\"% pred_results.meanAbsoluteError)\n",
        "print(\"The r2 for the model is: %2f\"% pred_results.r2)"
      ],
      "metadata": {
        "colab": {
          "base_uri": "https://localhost:8080/"
        },
        "id": "WpzXqII-1XDE",
        "outputId": "67199f44-bb9d-494c-8337-3b3d7de2dad8"
      },
      "execution_count": 254,
      "outputs": [
        {
          "output_type": "stream",
          "name": "stdout",
          "text": [
            "The MSE for the model is: 54724.949900\n",
            "The r2 for the model is: 0.570399\n"
          ]
        }
      ]
    },
    {
      "cell_type": "code",
      "source": [
        "pred_results = trained_house_model.evaluate(df_test)\n",
        "print(\"The MSE for the model is: %2f\"% pred_results.meanAbsoluteError)\n",
        "print(\"The r2 for the model is: %2f\"% pred_results.r2)"
      ],
      "metadata": {
        "colab": {
          "base_uri": "https://localhost:8080/"
        },
        "id": "yhtY_EBLw8B4",
        "outputId": "d8bc8665-4919-44b9-c403-0912634e7219"
      },
      "execution_count": 255,
      "outputs": [
        {
          "output_type": "stream",
          "name": "stdout",
          "text": [
            "The MSE for the model is: 54027.301116\n",
            "The r2 for the model is: 0.589270\n"
          ]
        }
      ]
    },
    {
      "cell_type": "markdown",
      "source": [
        "## To Achieve a Better prediction\n",
        "\n",
        "We can see that the LinearRegression model is only 57%.  To improve this number we could try the following\n",
        "\n",
        "- Try another Machine Learning Model\n",
        "- Obtain a better dataset in which the data is not as skewed\n",
        "- Review feature set\n",
        "- Scale features sets\n",
        "\n",
        "## Changed the feature set to the following\n",
        "\n",
        "'housing_median_age','total_rooms', 'median_income','price'\n",
        "\n",
        "In which resulted in an R2 of 51%.  So we can conclude the 57% is an improved feature set, however curious how it would perform on other house pricing dataset.  I will be investigating this in the future, since I am interested in obtaining a higher precision of accuracy"
      ],
      "metadata": {
        "id": "mbhT4JCXGqI1"
      }
    }
  ],
  "metadata": {
    "colab": {
      "provenance": [],
      "machine_shape": "hm",
      "toc_visible": true
    },
    "kernelspec": {
      "display_name": "Python 3",
      "name": "python3"
    },
    "language_info": {
      "codemirror_mode": {
        "name": "ipython",
        "version": 3
      },
      "file_extension": ".py",
      "mimetype": "text/x-python",
      "name": "python",
      "nbconvert_exporter": "python",
      "pygments_lexer": "ipython3",
      "version": "3.11.7"
    }
  },
  "nbformat": 4,
  "nbformat_minor": 0
}